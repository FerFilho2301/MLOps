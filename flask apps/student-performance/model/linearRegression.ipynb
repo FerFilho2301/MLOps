{
  "cells": [
    {
      "cell_type": "code",
      "execution_count": null,
      "metadata": {
        "id": "M1Pw7tIx9NnM"
      },
      "outputs": [],
      "source": [
        "#Import dataset\n",
        "import pandas as pd"
      ]
    }
  ],
  "metadata": {
    "colab": {
      "provenance": []
    },
    "kernelspec": {
      "display_name": "base",
      "language": "python",
      "name": "python3"
    },
    "language_info": {
      "name": "python",
      "version": "3.10.6 | packaged by conda-forge | (main, Aug 22 2022, 20:38:29) [Clang 13.0.1 ]"
    },
    "vscode": {
      "interpreter": {
        "hash": "ae52706a4a23253cce90a723dff68bd58aa0941d443930981f3ae6a3b09a2c7b"
      }
    }
  },
  "nbformat": 4,
  "nbformat_minor": 0
}
